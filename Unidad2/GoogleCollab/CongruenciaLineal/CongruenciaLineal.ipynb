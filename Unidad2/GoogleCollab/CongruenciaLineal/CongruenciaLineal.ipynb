{
  "nbformat": 4,
  "nbformat_minor": 0,
  "metadata": {
    "colab": {
      "provenance": [],
      "authorship_tag": "ABX9TyPb9qktY4G1K26iupLWJvtb",
      "include_colab_link": true
    },
    "kernelspec": {
      "name": "python3",
      "display_name": "Python 3"
    },
    "language_info": {
      "name": "python"
    }
  },
  "cells": [
    {
      "cell_type": "markdown",
      "metadata": {
        "id": "view-in-github",
        "colab_type": "text"
      },
      "source": [
        "<a href=\"https://colab.research.google.com/github/DystopiaScript/Simulacion/blob/main/Unidad2/GoogleCollab/CongruenciaLineal/CongruenciaLineal.ipynb\" target=\"_parent\"><img src=\"https://colab.research.google.com/assets/colab-badge.svg\" alt=\"Open In Colab\"/></a>"
      ]
    },
    {
      "cell_type": "markdown",
      "source": [
        "#Simulación\n",
        "##Generación de números aleatorios por el metodo de congruencia lineal\n",
        "Alumno: Jasher Abraham Carrazco Vaquera\n",
        "Número de control: C23041201"
      ],
      "metadata": {
        "id": "oS7yctdiyr9l"
      }
    },
    {
      "cell_type": "code",
      "execution_count": 7,
      "metadata": {
        "colab": {
          "base_uri": "https://localhost:8080/"
        },
        "id": "6IdIu8EMyfMd",
        "outputId": "88e3606f-92f8-4798-e6be-0fea15d13a49"
      },
      "outputs": [
        {
          "output_type": "stream",
          "name": "stdout",
          "text": [
            "\n",
            "Todos los números generados:\n",
            "Número aletorio 1: 603938277\n",
            "Número aletorio 2: 4214027776\n",
            "Número aletorio 3: 3988484447\n",
            "Número aletorio 4: 275156786\n",
            "Número aletorio 5: 3935577321\n",
            "Número aletorio 6: 3345656116\n",
            "Número aletorio 7: 1649951491\n",
            "Número aletorio 8: 4041772166\n",
            "Número aletorio 9: 3645995565\n",
            "Número aletorio 10: 2862945704\n",
            "Número aletorio 11: 3403283687\n",
            "Número aletorio 12: 382981402\n",
            "Número aletorio 13: 2611159473\n",
            "Número aletorio 14: 1835872092\n",
            "Número aletorio 15: 3956605707\n",
            "Número aletorio 16: 1636400366\n",
            "Número aletorio 17: 728702837\n",
            "Número aletorio 18: 3389598288\n",
            "Número aletorio 19: 1200748911\n",
            "Número aletorio 20: 1678891010\n",
            "Número aletorio 21: 2241443705\n",
            "Número aletorio 22: 791181956\n",
            "Número aletorio 23: 3107046419\n",
            "Número aletorio 24: 2649782870\n",
            "Número aletorio 25: 80309693\n",
            "Número aletorio 26: 1943524344\n",
            "Número aletorio 27: 3490809591\n",
            "Número aletorio 28: 4147656682\n",
            "Número aletorio 29: 2792031809\n",
            "Número aletorio 30: 4038404780\n",
            "Número aletorio 31: 3480135195\n",
            "Número aletorio 32: 333391038\n",
            "Número aletorio 33: 3186984197\n",
            "Número aletorio 34: 2992878240\n",
            "Número aletorio 35: 1984611711\n",
            "Número aletorio 36: 1381143762\n",
            "Número aletorio 37: 3664653833\n",
            "Número aletorio 38: 3107971028\n",
            "Número aletorio 39: 4086286627\n",
            "Número aletorio 40: 2303400998\n",
            "Número aletorio 41: 3794568525\n",
            "Número aletorio 42: 2052286024\n",
            "Número aletorio 43: 2859717895\n",
            "Número aletorio 44: 3638595258\n",
            "Número aletorio 45: 2833141457\n",
            "Número aletorio 46: 361314812\n",
            "Número aletorio 47: 2870824235\n",
            "Número aletorio 48: 584974478\n",
            "Número aletorio 49: 2211155605\n",
            "Número aletorio 50: 4112617200\n",
            "Número aletorio 51: 59168143\n",
            "Número aletorio 52: 4267034018\n",
            "Número aletorio 53: 2690287769\n",
            "Número aletorio 54: 3395672356\n",
            "Número aletorio 55: 1285771827\n",
            "Número aletorio 56: 980775414\n",
            "Número aletorio 57: 550748381\n",
            "Número aletorio 58: 463260824\n",
            "Número aletorio 59: 398583575\n",
            "Número aletorio 60: 1150933386\n",
            "Número aletorio 61: 1130756961\n",
            "Número aletorio 62: 3611188556\n",
            "Número aletorio 63: 540145723\n",
            "Número aletorio 64: 94572638\n",
            "Número aletorio 65: 392838181\n",
            "Número aletorio 66: 2691153728\n",
            "Número aletorio 67: 1697065375\n",
            "Número aletorio 68: 176712306\n",
            "Número aletorio 69: 2229782313\n",
            "Número aletorio 70: 3364841076\n",
            "Número aletorio 71: 2413649731\n",
            "Número aletorio 72: 204241862\n",
            "Número aletorio 73: 2857902189\n",
            "Número aletorio 74: 712574696\n",
            "Número aletorio 75: 1241300263\n",
            "Número aletorio 76: 712054874\n",
            "Número aletorio 77: 3567979505\n",
            "Número aletorio 78: 1516868764\n",
            "Número aletorio 79: 1748870987\n",
            "Número aletorio 80: 1854624814\n",
            "Número aletorio 81: 2508885429\n",
            "Número aletorio 82: 3751494544\n",
            "Número aletorio 83: 223134127\n",
            "Número aletorio 84: 1754760002\n",
            "Número aletorio 85: 3151948217\n",
            "Número aletorio 86: 1794213828\n",
            "Número aletorio 87: 686747731\n",
            "Número aletorio 88: 4235016598\n",
            "Número aletorio 89: 848471037\n",
            "Número aletorio 90: 1055724856\n",
            "Número aletorio 91: 4150613815\n",
            "Número aletorio 92: 2981317418\n",
            "Número aletorio 93: 160858241\n",
            "Número aletorio 94: 1021304812\n",
            "Número aletorio 95: 1695636059\n",
            "Número aletorio 96: 456379390\n",
            "Número aletorio 97: 757433157\n",
            "Número aletorio 98: 1264655328\n",
            "Número aletorio 99: 2052627903\n",
            "Número aletorio 100: 695210002\n"
          ]
        }
      ],
      "source": [
        "def congruencial_lineal(seed, a, c, m, n):\n",
        "    # Generar n números aleatorios usando el método congruencial lineal\n",
        "    numeros = []\n",
        "    Xn = seed  # Semilla inicial\n",
        "    for _ in range(n):\n",
        "        Xn = (a * Xn + c) % m  # Fórmula congruencial\n",
        "        numeros.append(Xn)  # Agregar Xn directamente sin normalización\n",
        "    return numeros\n",
        "\n",
        "\n",
        "def main():\n",
        "    # Obtener la semilla y la cantidad de números aleatorios del usuario\n",
        "    seed = 2334\n",
        "    n = 100\n",
        "\n",
        "    # Parámetros del generador congruencial lineal\n",
        "    a = 1664525    # Multiplicador\n",
        "    c = 1013904223 # Incremento\n",
        "    m = 2**32      # Módulo (comúnmente 2^32)\n",
        "\n",
        "    # Generar los números aleatorios\n",
        "    numeros_aleatorios = congruencial_lineal(seed, a, c, m, n)\n",
        "\n",
        "    # Mostrar todos los números generados con índice\n",
        "    print(\"\\nTodos los números generados:\")\n",
        "    for i, numero in enumerate(numeros_aleatorios, start=1):\n",
        "        print(f\"Número aletorio {i}: {numero}\")  # Agrega el índice antes del número\n",
        "\n",
        "if __name__ == '__main__':\n",
        "    main()\n"
      ]
    },
    {
      "cell_type": "code",
      "source": [],
      "metadata": {
        "id": "hnCBmhsEz7EF"
      },
      "execution_count": 6,
      "outputs": []
    }
  ]
}