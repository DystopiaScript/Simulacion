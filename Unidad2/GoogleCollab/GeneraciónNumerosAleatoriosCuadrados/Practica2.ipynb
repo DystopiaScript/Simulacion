{
  "cells": [
    {
      "cell_type": "markdown",
      "metadata": {
        "id": "view-in-github",
        "colab_type": "text"
      },
      "source": [
        "<a href=\"https://colab.research.google.com/github/DystopiaScript/Simulacion/blob/main/Unidad2/GoogleCollab/Generaci%C3%B3nNumerosAleatoriosCuadrados/Practica2.ipynb\" target=\"_parent\"><img src=\"https://colab.research.google.com/assets/colab-badge.svg\" alt=\"Open In Colab\"/></a>"
      ]
    },
    {
      "cell_type": "markdown",
      "metadata": {
        "id": "Kz4j3neS5OUE"
      },
      "source": [
        "#Simulación\n",
        "##Generación de números pseudoaletorios por el metodo de medios cuadrados\n",
        "Alumno: Jasher Abraham Carrazco Vaquera  \n",
        "Número de control: C23041201"
      ]
    },
    {
      "cell_type": "code",
      "execution_count": null,
      "metadata": {
        "colab": {
          "base_uri": "https://localhost:8080/"
        },
        "id": "d7-yZ7K4328Q",
        "outputId": "523b1f85-5819-4928-9924-e33b847d8c2c"
      },
      "outputs": [
        {
          "name": "stdout",
          "output_type": "stream",
          "text": [
            "Número Aleatorio 1: 200\n",
            "Número Aleatorio 1: 200\n",
            "Número Aleatorio 2: 400\n",
            "Número Aleatorio 1: 200\n",
            "Número Aleatorio 2: 400\n",
            "Número Aleatorio 3: 1600\n",
            "Número Aleatorio 1: 200\n",
            "Número Aleatorio 2: 400\n",
            "Número Aleatorio 3: 1600\n",
            "Número Aleatorio 4: 5600\n",
            "Número Aleatorio 1: 200\n",
            "Número Aleatorio 2: 400\n",
            "Número Aleatorio 3: 1600\n",
            "Número Aleatorio 4: 5600\n",
            "Número Aleatorio 5: 3600\n",
            "Número Aleatorio 1: 200\n",
            "Número Aleatorio 2: 400\n",
            "Número Aleatorio 3: 1600\n",
            "Número Aleatorio 4: 5600\n",
            "Número Aleatorio 5: 3600\n",
            "Número Aleatorio 6: 9600\n",
            "Número Aleatorio 1: 200\n",
            "Número Aleatorio 2: 400\n",
            "Número Aleatorio 3: 1600\n",
            "Número Aleatorio 4: 5600\n",
            "Número Aleatorio 5: 3600\n",
            "Número Aleatorio 6: 9600\n",
            "Número Aleatorio 7: 1600\n",
            "Número Aleatorio 1: 200\n",
            "Número Aleatorio 2: 400\n",
            "Número Aleatorio 3: 1600\n",
            "Número Aleatorio 4: 5600\n",
            "Número Aleatorio 5: 3600\n",
            "Número Aleatorio 6: 9600\n",
            "Número Aleatorio 7: 1600\n",
            "Número Aleatorio 8: 5600\n",
            "Número Aleatorio 1: 200\n",
            "Número Aleatorio 2: 400\n",
            "Número Aleatorio 3: 1600\n",
            "Número Aleatorio 4: 5600\n",
            "Número Aleatorio 5: 3600\n",
            "Número Aleatorio 6: 9600\n",
            "Número Aleatorio 7: 1600\n",
            "Número Aleatorio 8: 5600\n",
            "Número Aleatorio 9: 3600\n",
            "Número Aleatorio 1: 200\n",
            "Número Aleatorio 2: 400\n",
            "Número Aleatorio 3: 1600\n",
            "Número Aleatorio 4: 5600\n",
            "Número Aleatorio 5: 3600\n",
            "Número Aleatorio 6: 9600\n",
            "Número Aleatorio 7: 1600\n",
            "Número Aleatorio 8: 5600\n",
            "Número Aleatorio 9: 3600\n",
            "Número Aleatorio 10: 9600\n"
          ]
        }
      ],
      "source": [
        "#Semilla inicial\n",
        "semilla = 2005\n",
        "n = 4  # Define the number of digits to extract\n",
        "iteraciones = 100  # Define the number of iterations\n",
        "resultados = []\n",
        "for _ in range(iteraciones):\n",
        "  #Elevar la semilla al cuadrado\n",
        "  cuadrado = str(semilla ** 2).zfill(2 * n) #Agregar los espacios necesarios\n",
        "  #Extraer los dígitos centraoles\n",
        "  inicio = (len(cuadrado)- n)//2\n",
        "  semilla=int(cuadrado[inicio:inicio+n])\n",
        "  resultados.append(semilla)\n",
        "\n",
        "  #Imprimir resultados\n",
        "  for i, numero in enumerate(resultados, 1):\n",
        "    print(f\"Número Aleatorio {i}: {numero}\")\n",
        "\n"
      ]
    }
  ],
  "metadata": {
    "colab": {
      "provenance": [],
      "include_colab_link": true
    },
    "kernelspec": {
      "display_name": "Python 3",
      "name": "python3"
    },
    "language_info": {
      "name": "python"
    }
  },
  "nbformat": 4,
  "nbformat_minor": 0
}